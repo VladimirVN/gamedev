{
 "cells": [
  {
   "cell_type": "code",
   "execution_count": 13,
   "metadata": {},
   "outputs": [],
   "source": [
    "# Ghost Game"
   ]
  },
  {
   "cell_type": "code",
   "execution_count": 14,
   "metadata": {},
   "outputs": [],
   "source": [
    "import random\n",
    "from random import randint"
   ]
  },
  {
   "cell_type": "code",
   "execution_count": 15,
   "metadata": {},
   "outputs": [
    {
     "name": "stdout",
     "output_type": "stream",
     "text": [
      "Ghost Game\n"
     ]
    }
   ],
   "source": [
    "print('Ghost Game')"
   ]
  },
  {
   "cell_type": "code",
   "execution_count": 16,
   "metadata": {},
   "outputs": [],
   "source": [
    "feeling_brave = True\n",
    "score = 0"
   ]
  },
  {
   "cell_type": "code",
   "execution_count": null,
   "metadata": {},
   "outputs": [
    {
     "name": "stdout",
     "output_type": "stream",
     "text": [
      "Three doors ahead...\n",
      "A ghost behind one.\n",
      "Which door do you open?\n"
     ]
    }
   ],
   "source": [
    "while feeling_brave:\n",
    "    ghost_door = randint(1, 3)\n",
    "    print('Three doors ahead...')\n",
    "    print('A ghost behind one.')\n",
    "    print('Which door do you open?')\n",
    "    door = input('1, 2, or 3?')\n",
    "    door_num = int(door)\n",
    "    if door_num == ghost_door:\n",
    "        print('GHOST!')\n",
    "        feeling_brave = False\n",
    "    else:\n",
    "        print('No ghost!')\n",
    "        print('You enter the next room.')\n",
    "        score = score + 1\n",
    "print('Run away!')\n",
    "print('Game over! You scored', score)"
   ]
  }
 ],
 "metadata": {
  "kernelspec": {
   "display_name": "Python 3",
   "language": "python",
   "name": "python3"
  },
  "language_info": {
   "codemirror_mode": {
    "name": "ipython",
    "version": 3
   },
   "file_extension": ".py",
   "mimetype": "text/x-python",
   "name": "python",
   "nbconvert_exporter": "python",
   "pygments_lexer": "ipython3",
   "version": "3.7.3"
  }
 },
 "nbformat": 4,
 "nbformat_minor": 4
}
